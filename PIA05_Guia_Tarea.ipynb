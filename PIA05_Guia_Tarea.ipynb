{
  "nbformat": 4,
  "nbformat_minor": 0,
  "metadata": {
    "colab": {
      "provenance": [],
      "include_colab_link": true
    },
    "kernelspec": {
      "name": "python3",
      "display_name": "Python 3"
    },
    "language_info": {
      "name": "python"
    }
  },
  "cells": [
    {
      "cell_type": "markdown",
      "metadata": {
        "id": "view-in-github",
        "colab_type": "text"
      },
      "source": [
        "<a href=\"https://colab.research.google.com/github/MariaSanSal/PIA05/blob/main/PIA05_Guia_Tarea.ipynb\" target=\"_parent\"><img src=\"https://colab.research.google.com/assets/colab-badge.svg\" alt=\"Open In Colab\"/></a>"
      ]
    },
    {
      "cell_type": "markdown",
      "source": [
        "# Modelo de clasificación de imágenes basado en una red neuronal profunda"
      ],
      "metadata": {
        "id": "PLMjyZtMDJys"
      }
    },
    {
      "cell_type": "markdown",
      "source": [
        "Se pide utilizar el dataset que viene precargado en la librería Keras: [CIFAR10](https://keras.io/api/datasets/cifar10/)\n"
      ],
      "metadata": {
        "id": "Q0QLgCXgDVm5"
      }
    },
    {
      "cell_type": "markdown",
      "source": [
        "1. Importa los módulos necesarios de la librería Keras. Sugerencia:\n",
        "\n",
        "\n",
        "```\n",
        "import numpy as np\n",
        "from keras.models import Sequential\n",
        "from keras.layers import Flatten, Dense\n",
        "```\n",
        "\n"
      ],
      "metadata": {
        "id": "yNPz6EQ9DtEc"
      }
    },
    {
      "cell_type": "code",
      "source": [
        "#\tImporta la librerías\n",
        "# Importa los módulos necesarios para construir una red neuronal profunda: Sequential, Dense y Flatten\n",
        "import numpy as np\n",
        "from keras.models import Sequential\n",
        "from keras.layers import Flatten, Dense\n",
        "\n"
      ],
      "metadata": {
        "id": "J_bEYduNwnsv"
      },
      "execution_count": 15,
      "outputs": []
    },
    {
      "cell_type": "markdown",
      "source": [
        "2. Importa el dataset CIFAR10 de Keras, en un conjunto de datos de entrenamiento y un conjunto de datos para test. Sugerencia:\n",
        "\n",
        "\n",
        "```\n",
        "from keras.datasets import cifar10\n",
        "\n",
        "(X_train, y_train), (X_test, y_test) = cifar10.load_data()\n",
        "```\n",
        "\n"
      ],
      "metadata": {
        "id": "hT2HMGeTEEM6"
      }
    },
    {
      "cell_type": "code",
      "source": [
        "from keras.datasets import cifar10\n",
        "\n",
        "(X_train, y_train), (X_test, y_test) = cifar10.load_data()\n"
      ],
      "metadata": {
        "id": "4LvEGrUwwzoz",
        "outputId": "cd9e53e8-240b-4704-d37c-10139fec28ba",
        "colab": {
          "base_uri": "https://localhost:8080/"
        }
      },
      "execution_count": 5,
      "outputs": [
        {
          "output_type": "stream",
          "name": "stdout",
          "text": [
            "Downloading data from https://www.cs.toronto.edu/~kriz/cifar-10-python.tar.gz\n",
            "\u001b[1m170498071/170498071\u001b[0m \u001b[32m━━━━━━━━━━━━━━━━━━━━\u001b[0m\u001b[37m\u001b[0m \u001b[1m2s\u001b[0m 0us/step\n"
          ]
        }
      ]
    },
    {
      "cell_type": "markdown",
      "source": [
        "3. Explora los datos, especialmente, las dimensiones del dataset. Aplica normalización a los datos de entrada y la técnica one-hot encoding a los de salida.\n",
        "\n",
        "*Sugerencia para normalizar:*\n",
        "\n",
        "\n",
        "```\n",
        "X_train = X_train.astype('float32')\n",
        "X_test = X_test.astype('float32')\n",
        "X_train = X_train / 255.0\n",
        "X_test = X_test / 255.0\n",
        "```\n",
        "*Sugerencia de aplicación one-hot encoding para categorizar etiquetas:*\n",
        "\n",
        "\n",
        "```\n",
        "# one hot encode outputs\n",
        "y_train = np_utils.to_categorical(y_train)\n",
        "y_test = np_utils.to_categorical(y_test)\n",
        "num_classes = y_test.shape[1]\n",
        "```\n",
        "\n",
        "\n"
      ],
      "metadata": {
        "id": "JMV6a8MGNPPR"
      }
    },
    {
      "cell_type": "code",
      "source": [
        "# Exploración de los datos\n",
        "X_train.shape"
      ],
      "metadata": {
        "id": "Wzh3muDt7Obo",
        "outputId": "ac30b819-eaaa-4d0e-a27b-2fe3979e06ea",
        "colab": {
          "base_uri": "https://localhost:8080/"
        }
      },
      "execution_count": 6,
      "outputs": [
        {
          "output_type": "execute_result",
          "data": {
            "text/plain": [
              "(50000, 32, 32, 3)"
            ]
          },
          "metadata": {},
          "execution_count": 6
        }
      ]
    },
    {
      "cell_type": "code",
      "source": [
        "len(y_train)"
      ],
      "metadata": {
        "id": "O0l-fRXPsWfy",
        "outputId": "3451c7d1-b7ac-4859-87e2-c768c6f389e8",
        "colab": {
          "base_uri": "https://localhost:8080/"
        }
      },
      "execution_count": 7,
      "outputs": [
        {
          "output_type": "execute_result",
          "data": {
            "text/plain": [
              "50000"
            ]
          },
          "metadata": {},
          "execution_count": 7
        }
      ]
    },
    {
      "cell_type": "code",
      "source": [
        "y_train\n"
      ],
      "metadata": {
        "id": "Ov9mxP0fsjk5",
        "outputId": "87ae627e-609f-4f54-97a1-b1809c3a9495",
        "colab": {
          "base_uri": "https://localhost:8080/"
        }
      },
      "execution_count": 8,
      "outputs": [
        {
          "output_type": "execute_result",
          "data": {
            "text/plain": [
              "array([[6],\n",
              "       [9],\n",
              "       [9],\n",
              "       ...,\n",
              "       [9],\n",
              "       [1],\n",
              "       [1]], dtype=uint8)"
            ]
          },
          "metadata": {},
          "execution_count": 8
        }
      ]
    },
    {
      "cell_type": "code",
      "source": [
        "class_names = [\"airplane\",\"automobile\",\"bird\",\"cat\",\"deer\",\"dog\",\"frog\",\"horse\",\"ship\",\"truck\"]"
      ],
      "metadata": {
        "id": "3Iymc5bNtKRo"
      },
      "execution_count": 9,
      "outputs": []
    },
    {
      "cell_type": "code",
      "source": [
        "X_train = X_train.astype('float32')\n",
        "X_test = X_test.astype('float32')\n",
        "X_train /= 255\n",
        "X_test /= 255"
      ],
      "metadata": {
        "id": "Qxczj9mOtZa4"
      },
      "execution_count": 14,
      "outputs": []
    },
    {
      "cell_type": "code",
      "source": [
        "from tensorflow.keras.utils import to_categorical\n",
        "to_categorical?\n",
        "y_train = to_categorical(y_train)\n",
        "y_test = to_categorical(y_test)\n",
        "num_classes = y_test.shape[1]"
      ],
      "metadata": {
        "id": "C0fhreY1xcqq"
      },
      "execution_count": 19,
      "outputs": []
    },
    {
      "cell_type": "markdown",
      "source": [
        "4. Crea un modelo basado en redes neuronales profundas que tenga más de una capa de tipo Dense (Keras). Si es necesario, usa la capa Flatten al principio. Prueba un primer modelo lo más sencillo posible."
      ],
      "metadata": {
        "id": "_2a1w5nGONsG"
      }
    },
    {
      "cell_type": "code",
      "source": [
        "import keras\n",
        "model = keras.Sequential() # estructuras por capas\n",
        "model.add(keras.layers.Flatten(input_shape = (32,32)))"
      ],
      "metadata": {
        "id": "WTAEzXe79Mm1"
      },
      "execution_count": null,
      "outputs": []
    },
    {
      "cell_type": "markdown",
      "source": [
        "5. Configura el entrenamiento utilizando la función compile, con la función loss = 'categorical_crossentropy' y el optimizador Adam. Utiliza la función fit para entrenar el modelo, inicialmente, con 20 epochs."
      ],
      "metadata": {
        "id": "uGrjnPxzO1Q6"
      }
    },
    {
      "cell_type": "code",
      "source": [
        "# Escribe aquí tu código\n"
      ],
      "metadata": {
        "id": "t6FcgGB40dPR"
      },
      "execution_count": null,
      "outputs": []
    },
    {
      "cell_type": "markdown",
      "source": [
        "6. Crea un nuevo modelo con más capas y mayor número de neuronas. Entrénalo utilizando un número mayor de epochs y analiza el resultado. ¿Has conseguido mejorar la precisión? haz varias pruebas y quédate con el modelo que mejores resultados da."
      ],
      "metadata": {
        "id": "kpZWLhGrPN3V"
      }
    },
    {
      "cell_type": "code",
      "source": [
        "# Escribe aquí tu código\n"
      ],
      "metadata": {
        "id": "qJQXD3DZ966Y"
      },
      "execution_count": null,
      "outputs": []
    },
    {
      "cell_type": "markdown",
      "source": [
        "7. Utiliza el método evaluate para ver la precisión que se alcanzaría con datos nuevos, aplicándolo al conjunto de datos de test. ¿Es muy diferente a la precisión alcanzada en el entrenamiento?"
      ],
      "metadata": {
        "id": "OV9KKuHoZHf-"
      }
    },
    {
      "cell_type": "code",
      "source": [
        "# Escribe aquí tu código\n"
      ],
      "metadata": {
        "id": "OBJUR3TUP8Xs"
      },
      "execution_count": null,
      "outputs": []
    },
    {
      "cell_type": "markdown",
      "source": [
        "8. Explora de forma visual la precisión que se consigue, representando las primeras 25 imágenes del conjunto de datos de test, y comparando la etiqueta real con la de la predicción. Aquí tienes una posible forma de hacerlo (recuerda poner el nombre de tu modelo a la hora de aplicar el método predict):\n",
        "\n",
        "\n",
        "```\n",
        "predictions = model.predict(X_test)\n",
        "\n",
        "class_names = ['airplane','automobile','bird','cat','deer','dog','frog','horse','ship','truck']\n",
        "\n",
        "plt.figure(figsize=(10,10))\n",
        "for i in range(25):\n",
        "    plt.subplot(5,5,i+1)\n",
        "    plt.xticks([])\n",
        "    plt.yticks([])\n",
        "    plt.grid('off')\n",
        "    plt.imshow(X_test[i], cmap=plt.cm.binary)\n",
        "    predicted_label = predictions[i]\n",
        "    true_label = y_test[i]\n",
        "    if predicted_label.argmax() == true_label.tolist().index(1.):\n",
        "      color = 'green'\n",
        "    else:\n",
        "      color = 'red'\n",
        "    plt.xlabel(\"{} ({})\".format(class_names[predicted_label.argmax()],\n",
        "                                  class_names[true_label.tolist().index(1.)]),\n",
        "                                  color=color)\n",
        "```\n",
        "\n"
      ],
      "metadata": {
        "id": "cxfT2LO0Z31K"
      }
    },
    {
      "cell_type": "code",
      "source": [
        "# Escribe aquí tu código\n"
      ],
      "metadata": {
        "id": "2iAj4e8IWBpW"
      },
      "execution_count": null,
      "outputs": []
    }
  ]
}